{
  "cells": [
    {
      "cell_type": "markdown",
      "metadata": {
        "id": "view-in-github",
        "colab_type": "text"
      },
      "source": [
        "<a href=\"https://colab.research.google.com/github/iamnotvk/AppliedML_Assignment3/blob/main/Term_Project_Part_2_(Final).ipynb\" target=\"_parent\"><img src=\"https://colab.research.google.com/assets/colab-badge.svg\" alt=\"Open In Colab\"/></a>"
      ]
    },
    {
      "cell_type": "code",
      "execution_count": null,
      "metadata": {
        "colab": {
          "base_uri": "https://localhost:8080/"
        },
        "id": "keM32yiEUOL5",
        "outputId": "8db9a627-1e6e-4d82-b77f-18a414598dcb"
      },
      "outputs": [
        {
          "output_type": "stream",
          "name": "stdout",
          "text": [
            "Collecting sklearn-som\n",
            "  Downloading sklearn_som-1.1.0-py3-none-any.whl (6.7 kB)\n",
            "Requirement already satisfied: numpy in /usr/local/lib/python3.7/dist-packages (from sklearn-som) (1.19.5)\n",
            "Installing collected packages: sklearn-som\n",
            "Successfully installed sklearn-som-1.1.0\n"
          ]
        }
      ],
      "source": [
        "# !pip install sklearn-som"
      ]
    },
    {
      "cell_type": "code",
      "execution_count": null,
      "metadata": {
        "id": "32p2-q2_sM9G"
      },
      "outputs": [],
      "source": [
        "import pandas as pd\n",
        "from sklearn.metrics import accuracy_score\n",
        "from sklearn.preprocessing import StandardScaler\n",
        "from sklearn.neighbors import KNeighborsClassifier\n",
        "from sklearn.metrics import classification_report, confusion_matrix, accuracy_score, plot_confusion_matrix\n",
        "from sklearn.linear_model import LogisticRegression\n",
        "from sklearn.svm import SVC\n",
        "from sklearn.tree import DecisionTreeClassifier\n",
        "from sklearn.ensemble import AdaBoostClassifier,StackingClassifier\n",
        "from imblearn.over_sampling import ADASYN, SMOTE, RandomOverSampler\n",
        "import matplotlib.pyplot as plt\n",
        "import seaborn as sns\n",
        "from sklearn.feature_selection import RFE\n",
        "from sklearn.decomposition import PCA\n",
        "from sklearn.manifold import TSNE\n",
        "from sklearn.naive_bayes import GaussianNB\n",
        "from sklearn.base import clone\n",
        "from imblearn.pipeline import Pipeline\n",
        "from sklearn.pipeline import make_pipeline\n",
        "import tensorflow.keras as keras\n",
        "from tensorflow.keras.layers import Dense, Flatten\n",
        "import numpy as np\n",
        "from sklearn.neural_network import MLPClassifier\n",
        "from tqdm.auto import tqdm\n",
        "import sys\n",
        "import pickle\n",
        "from sklearn_som.som import SOM\n",
        "from sklearn.feature_selection import SequentialFeatureSelector\n",
        "from tqdm.auto import tqdm"
      ]
    },
    {
      "cell_type": "code",
      "execution_count": null,
      "metadata": {
        "colab": {
          "base_uri": "https://localhost:8080/",
          "height": 35
        },
        "id": "z5VIyl9jzXSM",
        "outputId": "22ebf94d-c67e-466a-c362-b48b0581e83d"
      },
      "outputs": [
        {
          "output_type": "execute_result",
          "data": {
            "application/vnd.google.colaboratory.intrinsic+json": {
              "type": "string"
            },
            "text/plain": [
              "''"
            ]
          },
          "metadata": {},
          "execution_count": 3
        }
      ],
      "source": [
        "import tensorflow as tf\n",
        "tf.test.gpu_device_name()"
      ]
    },
    {
      "cell_type": "code",
      "execution_count": null,
      "metadata": {
        "id": "YaDDWn5Zs-_a"
      },
      "outputs": [],
      "source": [
        "rs = 0\n",
        "link = \"https://github.com/iamnotvk/TermProjectAppliedML/raw/main/MCSDatasetNEXTCONLab.csv\"\n",
        "df = pd.read_csv(link)\n",
        "df['Ligitimacy'] = df['Ligitimacy'].replace(0,-1)\n",
        "trDf = df[:10139][:]\n",
        "teDf = df[10139:][:]\n",
        "trDf = trDf.apply(lambda x: (x-45)*10000 if x.name == 'Latitude' else x)\n",
        "trDf = trDf.apply(lambda x: (x+75)*10000 if x.name == 'Longitude' else x)\n",
        "teDf = teDf.apply(lambda x: (x-45)*10000 if x.name == 'Latitude' else x)\n",
        "teDf = teDf.apply(lambda x: (x+75)*10000 if x.name == 'Longitude' else x)\n",
        "trY = trDf['Ligitimacy'].values\n",
        "teY = teDf['Ligitimacy'].values\n",
        "trX = trDf.drop(columns=['ID', 'Day', 'Ligitimacy']).values\n",
        "teX = teDf.drop(columns=['ID', 'Day', 'Ligitimacy']).values"
      ]
    },
    {
      "cell_type": "code",
      "execution_count": null,
      "metadata": {
        "id": "2xUtNr72tSYr"
      },
      "outputs": [],
      "source": [
        "scaler = StandardScaler()\n",
        "trX = scaler.fit_transform(trX)\n",
        "teX = scaler.transform(teX)"
      ]
    },
    {
      "cell_type": "code",
      "execution_count": null,
      "metadata": {
        "id": "IuOvSR4sy1B0"
      },
      "outputs": [],
      "source": [
        "def get_accuracy(lr,momentum):\n",
        "    tmp_acc_list=[]\n",
        "    for _ in range(10):\n",
        "        clf = MLPClassifier(activation=\"tanh\", solver='sgd', hidden_layer_sizes=(15,15),learning_rate=\"constant\",learning_rate_init=lr,momentum=momentum)\n",
        "        clf.fit(trX,trY)\n",
        "        yPred = clf.predict(teX)\n",
        "        tmp_acc_list.append(round(accuracy_score(teY,yPred)*100,2))\n",
        "    acc = round((sum(tmp_acc_list) / len(tmp_acc_list)))   \n",
        "    return acc"
      ]
    },
    {
      "cell_type": "code",
      "execution_count": null,
      "metadata": {
        "id": "swppAbeitnmn"
      },
      "outputs": [],
      "source": [
        "import warnings\n",
        "warnings.filterwarnings(\"ignore\")\n",
        "\n",
        "from tqdm.auto import tqdm\n",
        "lr_min = 0.01\n",
        "mom_min = 0.01\n",
        "best_acc = 0\n",
        "for lr in tqdm(np.arange(0.01,0.11,0.01)):\n",
        "    for momentum in tqdm(np.arange(0.9,1.01,0.01)):\n",
        "        current = get_accuracy(lr,momentum)\n",
        "        if(current>best_acc):\n",
        "            best_acc = current\n",
        "            lr_min = lr \n",
        "            mom_min = momentum\n",
        "print(lr_min,mom_min,best_acc)"
      ]
    },
    {
      "cell_type": "code",
      "execution_count": null,
      "metadata": {
        "colab": {
          "base_uri": "https://localhost:8080/",
          "height": 312
        },
        "id": "yqR3aqfrbzFV",
        "outputId": "a7416034-45d6-47ad-ca21-f4c9decce689"
      },
      "outputs": [
        {
          "output_type": "stream",
          "name": "stdout",
          "text": [
            "Accuracy | MLP Classifier 92.52%\n"
          ]
        },
        {
          "output_type": "display_data",
          "data": {
            "image/png": "[encoded data removed]",
            "text/plain": [
              "<Figure size 432x288 with 2 Axes>"
            ]
          },
          "metadata": {
            "needs_background": "light"
          }
        }
      ],
      "source": [
        "import warnings\n",
        "warnings.filterwarnings(\"ignore\")\n",
        "lr=0.01\n",
        "momentum=0.97\n",
        "accuracy = []\n",
        "filename = 'finalmodel.sav'\n",
        "for i in range(10):\n",
        "    clf = MLPClassifier(activation=\"tanh\", solver='sgd', hidden_layer_sizes=(15,15),learning_rate=\"constant\",learning_rate_init=lr,momentum=momentum)\n",
        "    clf.fit(trX,trY)\n",
        "    yPred = clf.predict(teX)\n",
        "    accuracy.append(round(accuracy_score(teY,yPred)*100,2))\n",
        "    if(i!=0):\n",
        "        if(accuracy[i]>accuracy[i-1]):\n",
        "            pickle.dump(clf,open(filename,'wb'))\n",
        "    else:\n",
        "        pickle.dump(clf,open(filename,'wb'))\n",
        "acc = round((sum(accuracy) / len(accuracy)),2)\n",
        "print(\"Accuracy | MLP Classifier {}%\".format(acc))\n",
        "clf = pickle.load(open(filename, 'rb'))\n",
        "plot_confusion_matrix(clf,teX,teY)\n",
        "plt.title('Confusion matrix | MLP Classifier')\n",
        "plt.ylabel('Actual Values')\n",
        "plt.xlabel('Predicted Values')\n",
        "plt.show()"
      ]
    },
    {
      "cell_type": "code",
      "execution_count": null,
      "metadata": {
        "id": "37O_-ZOPzpoa"
      },
      "outputs": [],
      "source": [
        "def select_feature(X_TR, y_TR, X_TS, y_TS, FSM, MODEL):\n",
        "    fs = FSM\n",
        "    fs.fit(X_TR, y_TR)\n",
        "    X_TR_new = fs.transform(X_TR)\n",
        "    X_TS_new = fs.transform(X_TS)\n",
        "    MODEL.fit(X_TR_new, y_TR)\n",
        "    yPred = MODEL.predict(X_TS_new)\n",
        "    acc = round(accuracy_score(y_TS, yPred) * 100,2)\n",
        "    return acc"
      ]
    },
    {
      "cell_type": "code",
      "execution_count": null,
      "metadata": {
        "colab": {
          "base_uri": "https://localhost:8080/",
          "height": 49,
          "referenced_widgets": [
            "001842be946d4c8bb67ec1bd22685662",
            "deba2a2ece3c4704925c104d7a85cb54",
            "d830eb5f562b42fcb442e010edcb0984",
            "13f4d993a9524fd69e92df6d3b74ee37",
            "595936a8c95f484e8d8443d9d44dce68",
            "82fb2a3cf334463fbe57dfd65fa12208",
            "906cdbb5ceb8462995d36173d3550321",
            "34e435d17fbb4c10ac13bd083f24e6ac",
            "d5bbf99a2ae64efab13e65ac1bf5894d",
            "3a9b4b1b9ff142b2b9d746aa4648b3cc",
            "98629987edcf49d4876e07f43bdc12af"
          ]
        },
        "id": "NylXSVf0zvt2",
        "outputId": "86f34abe-8303-442b-be2d-ec27d5b675d8"
      },
      "outputs": [
        {
          "output_type": "display_data",
          "data": {
            "application/vnd.jupyter.widget-view+json": {
              "model_id": "001842be946d4c8bb67ec1bd22685662",
              "version_minor": 0,
              "version_major": 2
            },
            "text/plain": [
              "  0%|          | 0/9 [00:00<?, ?it/s]"
            ]
          },
          "metadata": {}
        }
      ],
      "source": [
        "model = clf\n",
        "accuracy_dict = {}\n",
        "for i in tqdm(range(1,trX.shape[1])): \n",
        "  sfs = SequentialFeatureSelector(model, n_features_to_select=i)\n",
        "  acc = select_feature(trX, trY, teX, teY, sfs, model)\n",
        "  accuracy_dict[i] = acc\n"
      ]
    },
    {
      "cell_type": "code",
      "execution_count": null,
      "metadata": {
        "colab": {
          "base_uri": "https://localhost:8080/",
          "height": 662
        },
        "id": "MQaME7fCLr8X",
        "outputId": "b172088f-5bb2-462c-b0fd-ffc768dc0a17"
      },
      "outputs": [
        {
          "output_type": "stream",
          "name": "stdout",
          "text": [
            "Maximum accuracy: 98.0\n",
            "Best number of features: 2\n"
          ]
        },
        {
          "output_type": "display_data",
          "data": {
            "image/png": "[encoded data removed]",
            "text/plain": [
              "<Figure size 864x720 with 1 Axes>"
            ]
          },
          "metadata": {
            "needs_background": "light"
          }
        }
      ],
      "source": [
        "plt.figure(figsize=(12,10))\n",
        "plt.plot(*zip(*sorted(accuracy_dict.items())),color='blue',marker='*')\n",
        "plt.axhline(y=acc, color= \"red\")\n",
        "Title = \"Feature Selection with Forward Feature Selection Method\"\n",
        "plt.title(Title, fontsize=16)\n",
        "plt.xticks(range(1,trX.shape[1]))\n",
        "plt.xlabel(\"Number of Features\", fontsize=16)\n",
        "plt.ylabel(\"Accuracy\", fontsize=16)\n",
        "plt.legend([\"Sequential Feature Selection on MLP\",\"Baseline-MLP\"])\n",
        "accuracy_mlp = max(accuracy_dict.values())\n",
        "nf_mlp =  max(accuracy_dict, key=accuracy_dict.get)\n",
        "print(\"Maximum accuracy:\", accuracy_mlp)\n",
        "print(\"Best number of features:\", nf_mlp)"
      ]
    },
    {
      "cell_type": "code",
      "execution_count": null,
      "metadata": {
        "id": "5sK2O2FPMd6U"
      },
      "outputs": [],
      "source": [
        "model = clf\n",
        "sfs = SequentialFeatureSelector(model, n_features_to_select=nf_mlp)\n",
        "sfs.fit(trX, trY)\n",
        "mlp_trainX = sfs.transform(trX)\n",
        "mlp_testX = sfs.transform(teX)\n",
        "filename = 'finalmodel2.sav'\n",
        "accuracy_score_nf=[]\n",
        "for i in range(10):\n",
        "    clf.fit(mlp_trainX,trY)\n",
        "    yPred = clf.predict(mlp_testX)\n",
        "    accuracy_score_nf.append(round(accuracy_score(teY,yPred)*100,2))\n",
        "    if(i!=0):\n",
        "        if(accuracy_score_nf[i]>accuracy_score_nf[i-1]):\n",
        "            pickle.dump(clf,open(filename,'wb'))\n",
        "    else:\n",
        "        pickle.dump(clf,open(filename,'wb'))"
      ]
    },
    {
      "cell_type": "code",
      "execution_count": null,
      "metadata": {
        "colab": {
          "base_uri": "https://localhost:8080/",
          "height": 312
        },
        "id": "P8-kwsRuQtmZ",
        "outputId": "0e1b2a17-9ccb-42de-d8e9-bb16950de56a"
      },
      "outputs": [
        {
          "output_type": "stream",
          "name": "stdout",
          "text": [
            "Accuracy of the MLP Classifier Using Wrapper method: 97.41\n"
          ]
        },
        {
          "output_type": "display_data",
          "data": {
            "image/png": "[encoded data removed]",
            "text/plain": [
              "<Figure size 432x288 with 2 Axes>"
            ]
          },
          "metadata": {
            "needs_background": "light"
          }
        }
      ],
      "source": [
        "clf = pickle.load(open(filename, 'rb'))\n",
        "acc_score_nf = round(sum(accuracy_score_nf) / len(accuracy_score_nf),2)\n",
        "print(\"Accuracy of the MLP Classifier Using Wrapper method:\", acc_score_nf )\n",
        "plot_confusion_matrix(clf,mlp_testX,teY)\n",
        "plt.title('Confusion matrix using MLP after Wrapper method')\n",
        "plt.ylabel('Actual Values')\n",
        "plt.xlabel('Predicted Values')\n",
        "plt.show()"
      ]
    },
    {
      "cell_type": "code",
      "execution_count": null,
      "metadata": {
        "colab": {
          "base_uri": "https://localhost:8080/",
          "height": 49,
          "referenced_widgets": [
            "fcafc40e716d4ebba0585fb00cf05339",
            "d20f973390d44ae3a381ed7eb5269516",
            "71589fb02c2c4e7993cdb11439836f27",
            "178af609a4cd476e93f98a6700d946dc",
            "e88e67592fde46f18463c55971c74d95",
            "3036b872f502495a915d3948a4bbdd93",
            "3bb304c7ef03422999b3f46dd9b06612",
            "8c286341e1c947a085f8e6ef830e6466",
            "8b6a335202a44eb7909300c91bc4a1d2",
            "ae262aa6dee0416fbaf6136b293f51b6",
            "ab53db4af74341168c33523bc9a67f63"
          ]
        },
        "id": "P1a4E-VmTEHf",
        "outputId": "d5f1e756-d797-4ca9-9e0d-15469f38acb4"
      },
      "outputs": [
        {
          "output_type": "display_data",
          "data": {
            "application/vnd.jupyter.widget-view+json": {
              "model_id": "fcafc40e716d4ebba0585fb00cf05339",
              "version_minor": 0,
              "version_major": 2
            },
            "text/plain": [
              "  0%|          | 0/7 [00:00<?, ?it/s]"
            ]
          },
          "metadata": {}
        }
      ],
      "source": [
        "clf = pickle.load(open(filename, 'rb'))\n",
        "accuracy_score_cls = {}\n",
        "for k in tqdm(range(2,9)):\n",
        "    dummy,dimension = mlp_trainX.shape\n",
        "    som = SOM(m=k,n=k,dim=dimension,random_state=0)\n",
        "    trcluster = som.fit_predict(mlp_trainX)\n",
        "    tecluster = som.predict(mlp_testX)\n",
        "    som_trainX = np.append(mlp_trainX,trcluster.reshape(-1,1),axis=1)\n",
        "    som_testX = np.append(mlp_testX,tecluster.reshape(-1,1),axis=1)\n",
        "    accuracy_best_cluster=[]\n",
        "    for i in range(10):\n",
        "        clf.fit(som_trainX,trY)\n",
        "        yPred = clf.predict(som_testX)\n",
        "        accuracy_best_cluster.append(round(accuracy_score(teY,yPred)*100,2))\n",
        "    accuracy_score_cls[k] = round(sum(accuracy_best_cluster)/len(accuracy_best_cluster),2)"
      ]
    },
    {
      "cell_type": "code",
      "execution_count": null,
      "metadata": {
        "colab": {
          "base_uri": "https://localhost:8080/",
          "height": 662
        },
        "id": "NCJexTVRW4vM",
        "outputId": "0b37cb07-72e5-4941-9a2f-04441725919f"
      },
      "outputs": [
        {
          "output_type": "stream",
          "name": "stdout",
          "text": [
            "Maximum accuracy: 97.89\n",
            "Best value of K: 2\n"
          ]
        },
        {
          "output_type": "display_data",
          "data": {
            "image/png": "[encoded data removed]",
            "text/plain": [
              "<Figure size 864x720 with 1 Axes>"
            ]
          },
          "metadata": {
            "needs_background": "light"
          }
        }
      ],
      "source": [
        "plt.figure(figsize=(12,10))\n",
        "plt.plot(*zip(*sorted(accuracy_score_cls.items())),color='green',marker='*')\n",
        "plt.axhline(y=acc_score_nf, color= \"blue\")\n",
        "Title = \"K vs Accuracy\"\n",
        "plt.title(Title, fontsize=16)\n",
        "plt.xticks(range(2,9))\n",
        "plt.xlabel(\"k as in SOM\", fontsize=16)\n",
        "plt.ylabel(\"Accuracy\", fontsize=16)\n",
        "plt.legend([\"PKI - approach on MLP\",\"Baseline-MLP obtained from Feature Selection\"])\n",
        "acc_b_mlp = max(accuracy_score_cls.values())\n",
        "b_mlp =  max(accuracy_score_cls, key=accuracy_score_cls.get)\n",
        "print(\"Maximum accuracy:\", acc_b_mlp)\n",
        "print(\"Best value of K:\", b_mlp)"
      ]
    },
    {
      "cell_type": "code",
      "execution_count": null,
      "metadata": {
        "id": "is38yZHNAeSw"
      },
      "outputs": [],
      "source": [
        "clf = pickle.load(open(filename, 'rb'))\n",
        "k = b_mlp\n",
        "dummy ,dimension =mlp_trainX.shape\n",
        "som = SOM(m=k,n=k,dim=dimension,random_state=0)\n",
        "trcluster = som.fit_predict(mlp_trainX)\n",
        "tecluster = som.predict(mlp_testX)\n",
        "som_trainX = np.append(mlp_trainX,trcluster.reshape(-1,1),axis=1)\n",
        "som_testX = np.append(mlp_testX,tecluster.reshape(-1,1),axis=1)\n",
        "filename = 'finalmodel3.sav'\n",
        "accuracy_best_cluster = []\n",
        "for i in range(10):\n",
        "    clf.fit(som_trainX,trY)\n",
        "    yPred = clf.predict(som_testX)\n",
        "    accuracy_best_cluster.append(round(accuracy_score(teY,yPred)*100,2))\n",
        "    if(i!=0):\n",
        "        if(accuracy_best_cluster[i]>accuracy_best_cluster[i-1]):\n",
        "            pickle.dump(clf,open(filename,'wb'))\n",
        "    else:\n",
        "        pickle.dump(clf,open(filename,'wb'))"
      ]
    },
    {
      "cell_type": "code",
      "execution_count": null,
      "metadata": {
        "colab": {
          "base_uri": "https://localhost:8080/",
          "height": 312
        },
        "id": "OOqv0q5xb74N",
        "outputId": "7618500c-85ad-4c4d-8879-621fe561b2c4"
      },
      "outputs": [
        {
          "output_type": "stream",
          "name": "stdout",
          "text": [
            "Accuracy of the MLP Classifier using PKI Approach is 98.21\n"
          ]
        },
        {
          "output_type": "display_data",
          "data": {
            "image/png": "[encoded data removed]",
            "text/plain": [
              "<Figure size 432x288 with 2 Axes>"
            ]
          },
          "metadata": {
            "needs_background": "light"
          }
        }
      ],
      "source": [
        "clf = pickle.load(open(filename, 'rb'))\n",
        "acc_nf = round((sum(accuracy_best_cluster) / len(accuracy_best_cluster)),2)\n",
        "print(\"Accuracy of the MLP Classifier using PKI Approach is\",acc_nf)\n",
        "plot_confusion_matrix(clf,som_testX,teY)\n",
        "plt.title('Confusion matrix using MLP after using PKI Approach')\n",
        "plt.ylabel('Actual Values')\n",
        "plt.xlabel('Predicted Values')\n",
        "plt.show()"
      ]
    },
    {
      "cell_type": "code",
      "execution_count": null,
      "metadata": {
        "id": "kGUjCCL9cbyJ"
      },
      "outputs": [],
      "source": [
        "combined_dictionary={}\n",
        "cnt=0\n",
        "for i in range(3,11): #i = Hidden Layer\n",
        "    for j in range (10,31): #j = Neural Number\n",
        "        arr=[]\n",
        "        for i in range(1,i+1):\n",
        "            arr.append(j)\n",
        "        cnt = cnt+1\n",
        "        combined_dictionary[cnt] = tuple(arr)"
      ]
    },
    {
      "cell_type": "code",
      "execution_count": null,
      "metadata": {
        "colab": {
          "base_uri": "https://localhost:8080/"
        },
        "id": "NpEmFXwbWxOd",
        "outputId": "a6753b2e-f612-43ea-e42b-6151d079e0fb"
      },
      "outputs": [
        {
          "output_type": "stream",
          "name": "stdout",
          "text": [
            "{1: (10, 10, 10), 2: (11, 11, 11), 3: (12, 12, 12), 4: (13, 13, 13), 5: (14, 14, 14), 6: (15, 15, 15), 7: (16, 16, 16), 8: (17, 17, 17), 9: (18, 18, 18), 10: (19, 19, 19), 11: (20, 20, 20), 12: (21, 21, 21), 13: (22, 22, 22), 14: (23, 23, 23), 15: (24, 24, 24), 16: (25, 25, 25), 17: (26, 26, 26), 18: (27, 27, 27), 19: (28, 28, 28), 20: (29, 29, 29), 21: (30, 30, 30), 22: (10, 10, 10, 10), 23: (11, 11, 11, 11), 24: (12, 12, 12, 12), 25: (13, 13, 13, 13), 26: (14, 14, 14, 14), 27: (15, 15, 15, 15), 28: (16, 16, 16, 16), 29: (17, 17, 17, 17), 30: (18, 18, 18, 18), 31: (19, 19, 19, 19), 32: (20, 20, 20, 20), 33: (21, 21, 21, 21), 34: (22, 22, 22, 22), 35: (23, 23, 23, 23), 36: (24, 24, 24, 24), 37: (25, 25, 25, 25), 38: (26, 26, 26, 26), 39: (27, 27, 27, 27), 40: (28, 28, 28, 28), 41: (29, 29, 29, 29), 42: (30, 30, 30, 30), 43: (10, 10, 10, 10, 10), 44: (11, 11, 11, 11, 11), 45: (12, 12, 12, 12, 12), 46: (13, 13, 13, 13, 13), 47: (14, 14, 14, 14, 14), 48: (15, 15, 15, 15, 15), 49: (16, 16, 16, 16, 16), 50: (17, 17, 17, 17, 17), 51: (18, 18, 18, 18, 18), 52: (19, 19, 19, 19, 19), 53: (20, 20, 20, 20, 20), 54: (21, 21, 21, 21, 21), 55: (22, 22, 22, 22, 22), 56: (23, 23, 23, 23, 23), 57: (24, 24, 24, 24, 24), 58: (25, 25, 25, 25, 25), 59: (26, 26, 26, 26, 26), 60: (27, 27, 27, 27, 27), 61: (28, 28, 28, 28, 28), 62: (29, 29, 29, 29, 29), 63: (30, 30, 30, 30, 30), 64: (10, 10, 10, 10, 10, 10), 65: (11, 11, 11, 11, 11, 11), 66: (12, 12, 12, 12, 12, 12), 67: (13, 13, 13, 13, 13, 13), 68: (14, 14, 14, 14, 14, 14), 69: (15, 15, 15, 15, 15, 15), 70: (16, 16, 16, 16, 16, 16), 71: (17, 17, 17, 17, 17, 17), 72: (18, 18, 18, 18, 18, 18), 73: (19, 19, 19, 19, 19, 19), 74: (20, 20, 20, 20, 20, 20), 75: (21, 21, 21, 21, 21, 21), 76: (22, 22, 22, 22, 22, 22), 77: (23, 23, 23, 23, 23, 23), 78: (24, 24, 24, 24, 24, 24), 79: (25, 25, 25, 25, 25, 25), 80: (26, 26, 26, 26, 26, 26), 81: (27, 27, 27, 27, 27, 27), 82: (28, 28, 28, 28, 28, 28), 83: (29, 29, 29, 29, 29, 29), 84: (30, 30, 30, 30, 30, 30), 85: (10, 10, 10, 10, 10, 10, 10), 86: (11, 11, 11, 11, 11, 11, 11), 87: (12, 12, 12, 12, 12, 12, 12), 88: (13, 13, 13, 13, 13, 13, 13), 89: (14, 14, 14, 14, 14, 14, 14), 90: (15, 15, 15, 15, 15, 15, 15), 91: (16, 16, 16, 16, 16, 16, 16), 92: (17, 17, 17, 17, 17, 17, 17), 93: (18, 18, 18, 18, 18, 18, 18), 94: (19, 19, 19, 19, 19, 19, 19), 95: (20, 20, 20, 20, 20, 20, 20), 96: (21, 21, 21, 21, 21, 21, 21), 97: (22, 22, 22, 22, 22, 22, 22), 98: (23, 23, 23, 23, 23, 23, 23), 99: (24, 24, 24, 24, 24, 24, 24), 100: (25, 25, 25, 25, 25, 25, 25), 101: (26, 26, 26, 26, 26, 26, 26), 102: (27, 27, 27, 27, 27, 27, 27), 103: (28, 28, 28, 28, 28, 28, 28), 104: (29, 29, 29, 29, 29, 29, 29), 105: (30, 30, 30, 30, 30, 30, 30), 106: (10, 10, 10, 10, 10, 10, 10, 10), 107: (11, 11, 11, 11, 11, 11, 11, 11), 108: (12, 12, 12, 12, 12, 12, 12, 12), 109: (13, 13, 13, 13, 13, 13, 13, 13), 110: (14, 14, 14, 14, 14, 14, 14, 14), 111: (15, 15, 15, 15, 15, 15, 15, 15), 112: (16, 16, 16, 16, 16, 16, 16, 16), 113: (17, 17, 17, 17, 17, 17, 17, 17), 114: (18, 18, 18, 18, 18, 18, 18, 18), 115: (19, 19, 19, 19, 19, 19, 19, 19), 116: (20, 20, 20, 20, 20, 20, 20, 20), 117: (21, 21, 21, 21, 21, 21, 21, 21), 118: (22, 22, 22, 22, 22, 22, 22, 22), 119: (23, 23, 23, 23, 23, 23, 23, 23), 120: (24, 24, 24, 24, 24, 24, 24, 24), 121: (25, 25, 25, 25, 25, 25, 25, 25), 122: (26, 26, 26, 26, 26, 26, 26, 26), 123: (27, 27, 27, 27, 27, 27, 27, 27), 124: (28, 28, 28, 28, 28, 28, 28, 28), 125: (29, 29, 29, 29, 29, 29, 29, 29), 126: (30, 30, 30, 30, 30, 30, 30, 30), 127: (10, 10, 10, 10, 10, 10, 10, 10, 10), 128: (11, 11, 11, 11, 11, 11, 11, 11, 11), 129: (12, 12, 12, 12, 12, 12, 12, 12, 12), 130: (13, 13, 13, 13, 13, 13, 13, 13, 13), 131: (14, 14, 14, 14, 14, 14, 14, 14, 14), 132: (15, 15, 15, 15, 15, 15, 15, 15, 15), 133: (16, 16, 16, 16, 16, 16, 16, 16, 16), 134: (17, 17, 17, 17, 17, 17, 17, 17, 17), 135: (18, 18, 18, 18, 18, 18, 18, 18, 18), 136: (19, 19, 19, 19, 19, 19, 19, 19, 19), 137: (20, 20, 20, 20, 20, 20, 20, 20, 20), 138: (21, 21, 21, 21, 21, 21, 21, 21, 21), 139: (22, 22, 22, 22, 22, 22, 22, 22, 22), 140: (23, 23, 23, 23, 23, 23, 23, 23, 23), 141: (24, 24, 24, 24, 24, 24, 24, 24, 24), 142: (25, 25, 25, 25, 25, 25, 25, 25, 25), 143: (26, 26, 26, 26, 26, 26, 26, 26, 26), 144: (27, 27, 27, 27, 27, 27, 27, 27, 27), 145: (28, 28, 28, 28, 28, 28, 28, 28, 28), 146: (29, 29, 29, 29, 29, 29, 29, 29, 29), 147: (30, 30, 30, 30, 30, 30, 30, 30, 30), 148: (10, 10, 10, 10, 10, 10, 10, 10, 10, 10), 149: (11, 11, 11, 11, 11, 11, 11, 11, 11, 11), 150: (12, 12, 12, 12, 12, 12, 12, 12, 12, 12), 151: (13, 13, 13, 13, 13, 13, 13, 13, 13, 13), 152: (14, 14, 14, 14, 14, 14, 14, 14, 14, 14), 153: (15, 15, 15, 15, 15, 15, 15, 15, 15, 15), 154: (16, 16, 16, 16, 16, 16, 16, 16, 16, 16), 155: (17, 17, 17, 17, 17, 17, 17, 17, 17, 17), 156: (18, 18, 18, 18, 18, 18, 18, 18, 18, 18), 157: (19, 19, 19, 19, 19, 19, 19, 19, 19, 19), 158: (20, 20, 20, 20, 20, 20, 20, 20, 20, 20), 159: (21, 21, 21, 21, 21, 21, 21, 21, 21, 21), 160: (22, 22, 22, 22, 22, 22, 22, 22, 22, 22), 161: (23, 23, 23, 23, 23, 23, 23, 23, 23, 23), 162: (24, 24, 24, 24, 24, 24, 24, 24, 24, 24), 163: (25, 25, 25, 25, 25, 25, 25, 25, 25, 25), 164: (26, 26, 26, 26, 26, 26, 26, 26, 26, 26), 165: (27, 27, 27, 27, 27, 27, 27, 27, 27, 27), 166: (28, 28, 28, 28, 28, 28, 28, 28, 28, 28), 167: (29, 29, 29, 29, 29, 29, 29, 29, 29, 29), 168: (30, 30, 30, 30, 30, 30, 30, 30, 30, 30)}\n"
          ]
        }
      ],
      "source": [
        "print(combined_dictionary)"
      ]
    },
    {
      "cell_type": "code",
      "execution_count": null,
      "metadata": {
        "colab": {
          "base_uri": "https://localhost:8080/",
          "height": 49,
          "referenced_widgets": [
            "6dec60cb913d464482b0bfac1f015216",
            "172739992a3945729fa8af8a73a1b840",
            "0313dcf4657e4b669abaadb9fafc9954",
            "1327341a5bb74a90b0d399fb74286607",
            "2cb7f69aec5b4325ac3b376b567987f7",
            "a329ab607b764132815bc183be36a712",
            "25d9e7f0899943bfb81c03a388ac9082",
            "ca133e536fa6434894587d2534cd0093",
            "6f6351fbdb674a2483025c9883077ccd",
            "2b3283b22a16461b83370a5ab400a87b",
            "d8b78ff38ac244f2b2a67707cd372bc5"
          ]
        },
        "id": "c8kJxkBHc7H9",
        "outputId": "1d708976-cb17-40a6-be42-4d3159a2fdd6"
      },
      "outputs": [
        {
          "output_type": "display_data",
          "data": {
            "application/vnd.jupyter.widget-view+json": {
              "model_id": "6dec60cb913d464482b0bfac1f015216",
              "version_minor": 0,
              "version_major": 2
            },
            "text/plain": [
              "  0%|          | 0/99 [00:00<?, ?it/s]"
            ]
          },
          "metadata": {}
        }
      ],
      "source": [
        "accuracy_tuning = {}\n",
        "for key in tqdm(range(1,106)):\n",
        "    temp_acc = []\n",
        "    for dummy in range(10):\n",
        "        clf = MLPClassifier(activation=\"tanh\", solver='sgd', hidden_layer_sizes=combined_dictionary[key],learning_rate=\"constant\",learning_rate_init=lr,momentum=momentum)\n",
        "        clf.fit(som_trainX,trY)\n",
        "        yPred = clf.predict(som_testX)\n",
        "        temp_acc.append(round(accuracy_score(teY,yPred)*100,2))\n",
        "    accuracy_tuning[key] = round(sum(temp_acc)/len(temp_acc),2)\n"
      ]
    },
    {
      "cell_type": "code",
      "source": [
        "print(accuracy_tuning)"
      ],
      "metadata": {
        "colab": {
          "base_uri": "https://localhost:8080/"
        },
        "id": "RrLmlH93CYSk",
        "outputId": "dea7b7af-cc1f-4242-8657-7ea7f536fd48"
      },
      "execution_count": null,
      "outputs": [
        {
          "output_type": "stream",
          "name": "stdout",
          "text": [
            "{1: 98.19, 2: 98.39, 3: 98.42, 4: 98.35, 5: 98.25, 6: 98.38, 7: 98.27, 8: 98.58, 9: 98.56, 10: 98.71, 11: 98.5, 12: 98.53, 13: 98.65, 14: 98.51, 15: 98.78, 16: 98.64, 17: 98.76, 18: 98.78, 19: 98.66, 20: 98.61, 21: 98.59, 22: 98.16, 23: 98.16, 24: 98.36, 25: 98.37, 26: 98.64, 27: 98.43, 28: 98.21, 29: 98.29, 30: 98.42, 31: 98.54, 32: 98.54, 33: 98.64, 34: 98.32, 35: 98.44, 36: 98.34, 37: 98.5, 38: 98.71, 39: 98.62, 40: 98.47, 41: 98.7, 42: 98.65, 43: 97.98, 44: 98.22, 45: 98.29, 46: 98.28, 47: 98.49, 48: 98.29, 49: 98.06, 50: 98.53, 51: 98.55, 52: 98.45, 53: 98.19, 54: 98.48, 55: 98.52, 56: 98.6, 57: 98.59, 58: 98.57, 59: 98.42, 60: 98.43, 61: 98.52, 62: 98.49, 63: 98.68, 64: 97.66, 65: 97.76, 66: 97.73, 67: 97.94, 68: 98.14, 69: 98.16, 70: 98.58, 71: 98.36, 72: 98.3, 73: 98.19, 74: 98.51, 75: 97.73, 76: 98.55, 77: 98.43, 78: 98.43, 79: 98.43, 80: 98.35, 81: 98.43, 82: 98.36, 83: 98.39, 84: 98.73, 85: 95.94, 86: 95.77, 87: 97.76, 88: 96.75, 89: 98.44, 90: 97.51, 91: 98.07, 92: 97.75, 93: 97.9, 94: 97.73, 95: 98.41, 96: 97.82, 97: 98.31, 98: 97.98, 99: 98.27}\n"
          ]
        }
      ]
    },
    {
      "cell_type": "code",
      "execution_count": null,
      "metadata": {
        "colab": {
          "base_uri": "https://localhost:8080/",
          "height": 234
        },
        "id": "0Kn2w1jFwKpb",
        "outputId": "731711c7-3727-4c31-f843-a02f68994a48"
      },
      "outputs": [
        {
          "output_type": "stream",
          "name": "stdout",
          "text": [
            "Maximum accuracy: 98.78\n",
            "Index 15\n"
          ]
        },
        {
          "output_type": "error",
          "ename": "NameError",
          "evalue": "ignored",
          "traceback": [
            "\u001b[0;31m---------------------------------------------------------------------------\u001b[0m",
            "\u001b[0;31mNameError\u001b[0m                                 Traceback (most recent call last)",
            "\u001b[0;32m<ipython-input-22-3fe8cb947856>\u001b[0m in \u001b[0;36m<module>\u001b[0;34m()\u001b[0m\n\u001b[1;32m      3\u001b[0m \u001b[0mprint\u001b[0m\u001b[0;34m(\u001b[0m\u001b[0;34m\"Maximum accuracy:\"\u001b[0m\u001b[0;34m,\u001b[0m \u001b[0maccuracy_tuning_max\u001b[0m\u001b[0;34m)\u001b[0m\u001b[0;34m\u001b[0m\u001b[0;34m\u001b[0m\u001b[0m\n\u001b[1;32m      4\u001b[0m \u001b[0mprint\u001b[0m\u001b[0;34m(\u001b[0m\u001b[0;34m\"Index\"\u001b[0m\u001b[0;34m,\u001b[0m \u001b[0mbest_tuning_index\u001b[0m\u001b[0;34m)\u001b[0m\u001b[0;34m\u001b[0m\u001b[0;34m\u001b[0m\u001b[0m\n\u001b[0;32m----> 5\u001b[0;31m \u001b[0mprint\u001b[0m\u001b[0;34m(\u001b[0m\u001b[0;34m\"Number of Hidden Layers is {} and Number of Neurons is {}\"\u001b[0m \u001b[0;34m.\u001b[0m\u001b[0mformat\u001b[0m\u001b[0;34m(\u001b[0m\u001b[0mlen\u001b[0m\u001b[0;34m(\u001b[0m\u001b[0mcomb_dict\u001b[0m\u001b[0;34m[\u001b[0m\u001b[0mbest_tun_index\u001b[0m\u001b[0;34m]\u001b[0m\u001b[0;34m)\u001b[0m\u001b[0;34m,\u001b[0m\u001b[0mcomb_dict\u001b[0m\u001b[0;34m[\u001b[0m\u001b[0mbest_tun_index\u001b[0m\u001b[0;34m]\u001b[0m\u001b[0;34m[\u001b[0m\u001b[0;36m0\u001b[0m\u001b[0;34m]\u001b[0m\u001b[0;34m)\u001b[0m\u001b[0;34m)\u001b[0m\u001b[0;34m\u001b[0m\u001b[0;34m\u001b[0m\u001b[0m\n\u001b[0m",
            "\u001b[0;31mNameError\u001b[0m: name 'comb_dict' is not defined"
          ]
        }
      ],
      "source": [
        "accuracy_tuning_max = max(accuracy_tuning.values())\n",
        "best_tuning_index =  max(accuracy_tuning, key=accuracy_tuning.get)\n",
        "print(\"Maximum accuracy:\", accuracy_tuning_max)\n",
        "print(\"Index\", best_tuning_index)\n",
        "print(\"Number of Hidden Layers is {} and Number of Neurons is {}\" .format(len(combined_dictionary[best_tuning_index]),combined_dictionary[best_tuning_index][0]))"
      ]
    }
  ],
  "metadata": {
    "colab": {
      "name": "Term_Project_Part_2 (Final).ipynb",
      "provenance": [],
      "collapsed_sections": [],
      "include_colab_link": true
    },
    "kernelspec": {
      "display_name": "Python 3",
      "name": "python3"
    },
    "language_info": {
      "name": "python"
    },
    "widgets": {
      "application/vnd.jupyter.widget-state+json": {
        "001842be946d4c8bb67ec1bd22685662": {
          "model_module": "@jupyter-widgets/controls",
          "model_name": "HBoxModel",
          "model_module_version": "1.5.0",
          "state": {
            "_view_name": "HBoxView",
            "_dom_classes": [],
            "_model_name": "HBoxModel",
            "_view_module": "@jupyter-widgets/controls",
            "_model_module_version": "1.5.0",
            "_view_count": null,
            "_view_module_version": "1.5.0",
            "box_style": "",
            "layout": "IPY_MODEL_deba2a2ece3c4704925c104d7a85cb54",
            "_model_module": "@jupyter-widgets/controls",
            "children": [
              "IPY_MODEL_d830eb5f562b42fcb442e010edcb0984",
              "IPY_MODEL_13f4d993a9524fd69e92df6d3b74ee37",
              "IPY_MODEL_595936a8c95f484e8d8443d9d44dce68"
            ]
          }
        },
        "deba2a2ece3c4704925c104d7a85cb54": {
          "model_module": "@jupyter-widgets/base",
          "model_name": "LayoutModel",
          "model_module_version": "1.2.0",
          "state": {
            "_view_name": "LayoutView",
            "grid_template_rows": null,
            "right": null,
            "justify_content": null,
            "_view_module": "@jupyter-widgets/base",
            "overflow": null,
            "_model_module_version": "1.2.0",
            "_view_count": null,
            "flex_flow": null,
            "width": null,
            "min_width": null,
            "border": null,
            "align_items": null,
            "bottom": null,
            "_model_module": "@jupyter-widgets/base",
            "top": null,
            "grid_column": null,
            "overflow_y": null,
            "overflow_x": null,
            "grid_auto_flow": null,
            "grid_area": null,
            "grid_template_columns": null,
            "flex": null,
            "_model_name": "LayoutModel",
            "justify_items": null,
            "grid_row": null,
            "max_height": null,
            "align_content": null,
            "visibility": null,
            "align_self": null,
            "height": null,
            "min_height": null,
            "padding": null,
            "grid_auto_rows": null,
            "grid_gap": null,
            "max_width": null,
            "order": null,
            "_view_module_version": "1.2.0",
            "grid_template_areas": null,
            "object_position": null,
            "object_fit": null,
            "grid_auto_columns": null,
            "margin": null,
            "display": null,
            "left": null
          }
        },
        "d830eb5f562b42fcb442e010edcb0984": {
          "model_module": "@jupyter-widgets/controls",
          "model_name": "HTMLModel",
          "model_module_version": "1.5.0",
          "state": {
            "_view_name": "HTMLView",
            "style": "IPY_MODEL_82fb2a3cf334463fbe57dfd65fa12208",
            "_dom_classes": [],
            "description": "",
            "_model_name": "HTMLModel",
            "placeholder": "​",
            "_view_module": "@jupyter-widgets/controls",
            "_model_module_version": "1.5.0",
            "value": "100%",
            "_view_count": null,
            "_view_module_version": "1.5.0",
            "description_tooltip": null,
            "_model_module": "@jupyter-widgets/controls",
            "layout": "IPY_MODEL_906cdbb5ceb8462995d36173d3550321"
          }
        },
        "13f4d993a9524fd69e92df6d3b74ee37": {
          "model_module": "@jupyter-widgets/controls",
          "model_name": "FloatProgressModel",
          "model_module_version": "1.5.0",
          "state": {
            "_view_name": "ProgressView",
            "style": "IPY_MODEL_34e435d17fbb4c10ac13bd083f24e6ac",
            "_dom_classes": [],
            "description": "",
            "_model_name": "FloatProgressModel",
            "bar_style": "success",
            "max": 9,
            "_view_module": "@jupyter-widgets/controls",
            "_model_module_version": "1.5.0",
            "value": 9,
            "_view_count": null,
            "_view_module_version": "1.5.0",
            "orientation": "horizontal",
            "min": 0,
            "description_tooltip": null,
            "_model_module": "@jupyter-widgets/controls",
            "layout": "IPY_MODEL_d5bbf99a2ae64efab13e65ac1bf5894d"
          }
        },
        "595936a8c95f484e8d8443d9d44dce68": {
          "model_module": "@jupyter-widgets/controls",
          "model_name": "HTMLModel",
          "model_module_version": "1.5.0",
          "state": {
            "_view_name": "HTMLView",
            "style": "IPY_MODEL_3a9b4b1b9ff142b2b9d746aa4648b3cc",
            "_dom_classes": [],
            "description": "",
            "_model_name": "HTMLModel",
            "placeholder": "​",
            "_view_module": "@jupyter-widgets/controls",
            "_model_module_version": "1.5.0",
            "value": " 9/9 [1:56:47&lt;00:00, 1089.48s/it]",
            "_view_count": null,
            "_view_module_version": "1.5.0",
            "description_tooltip": null,
            "_model_module": "@jupyter-widgets/controls",
            "layout": "IPY_MODEL_98629987edcf49d4876e07f43bdc12af"
          }
        },
        "82fb2a3cf334463fbe57dfd65fa12208": {
          "model_module": "@jupyter-widgets/controls",
          "model_name": "DescriptionStyleModel",
          "model_module_version": "1.5.0",
          "state": {
            "_view_name": "StyleView",
            "_model_name": "DescriptionStyleModel",
            "description_width": "",
            "_view_module": "@jupyter-widgets/base",
            "_model_module_version": "1.5.0",
            "_view_count": null,
            "_view_module_version": "1.2.0",
            "_model_module": "@jupyter-widgets/controls"
          }
        },
        "906cdbb5ceb8462995d36173d3550321": {
          "model_module": "@jupyter-widgets/base",
          "model_name": "LayoutModel",
          "model_module_version": "1.2.0",
          "state": {
            "_view_name": "LayoutView",
            "grid_template_rows": null,
            "right": null,
            "justify_content": null,
            "_view_module": "@jupyter-widgets/base",
            "overflow": null,
            "_model_module_version": "1.2.0",
            "_view_count": null,
            "flex_flow": null,
            "width": null,
            "min_width": null,
            "border": null,
            "align_items": null,
            "bottom": null,
            "_model_module": "@jupyter-widgets/base",
            "top": null,
            "grid_column": null,
            "overflow_y": null,
            "overflow_x": null,
            "grid_auto_flow": null,
            "grid_area": null,
            "grid_template_columns": null,
            "flex": null,
            "_model_name": "LayoutModel",
            "justify_items": null,
            "grid_row": null,
            "max_height": null,
            "align_content": null,
            "visibility": null,
            "align_self": null,
            "height": null,
            "min_height": null,
            "padding": null,
            "grid_auto_rows": null,
            "grid_gap": null,
            "max_width": null,
            "order": null,
            "_view_module_version": "1.2.0",
            "grid_template_areas": null,
            "object_position": null,
            "object_fit": null,
            "grid_auto_columns": null,
            "margin": null,
            "display": null,
            "left": null
          }
        },
        "34e435d17fbb4c10ac13bd083f24e6ac": {
          "model_module": "@jupyter-widgets/controls",
          "model_name": "ProgressStyleModel",
          "model_module_version": "1.5.0",
          "state": {
            "_view_name": "StyleView",
            "_model_name": "ProgressStyleModel",
            "description_width": "",
            "_view_module": "@jupyter-widgets/base",
            "_model_module_version": "1.5.0",
            "_view_count": null,
            "_view_module_version": "1.2.0",
            "bar_color": null,
            "_model_module": "@jupyter-widgets/controls"
          }
        },
        "d5bbf99a2ae64efab13e65ac1bf5894d": {
          "model_module": "@jupyter-widgets/base",
          "model_name": "LayoutModel",
          "model_module_version": "1.2.0",
          "state": {
            "_view_name": "LayoutView",
            "grid_template_rows": null,
            "right": null,
            "justify_content": null,
            "_view_module": "@jupyter-widgets/base",
            "overflow": null,
            "_model_module_version": "1.2.0",
            "_view_count": null,
            "flex_flow": null,
            "width": null,
            "min_width": null,
            "border": null,
            "align_items": null,
            "bottom": null,
            "_model_module": "@jupyter-widgets/base",
            "top": null,
            "grid_column": null,
            "overflow_y": null,
            "overflow_x": null,
            "grid_auto_flow": null,
            "grid_area": null,
            "grid_template_columns": null,
            "flex": null,
            "_model_name": "LayoutModel",
            "justify_items": null,
            "grid_row": null,
            "max_height": null,
            "align_content": null,
            "visibility": null,
            "align_self": null,
            "height": null,
            "min_height": null,
            "padding": null,
            "grid_auto_rows": null,
            "grid_gap": null,
            "max_width": null,
            "order": null,
            "_view_module_version": "1.2.0",
            "grid_template_areas": null,
            "object_position": null,
            "object_fit": null,
            "grid_auto_columns": null,
            "margin": null,
            "display": null,
            "left": null
          }
        },
        "3a9b4b1b9ff142b2b9d746aa4648b3cc": {
          "model_module": "@jupyter-widgets/controls",
          "model_name": "DescriptionStyleModel",
          "model_module_version": "1.5.0",
          "state": {
            "_view_name": "StyleView",
            "_model_name": "DescriptionStyleModel",
            "description_width": "",
            "_view_module": "@jupyter-widgets/base",
            "_model_module_version": "1.5.0",
            "_view_count": null,
            "_view_module_version": "1.2.0",
            "_model_module": "@jupyter-widgets/controls"
          }
        },
        "98629987edcf49d4876e07f43bdc12af": {
          "model_module": "@jupyter-widgets/base",
          "model_name": "LayoutModel",
          "model_module_version": "1.2.0",
          "state": {
            "_view_name": "LayoutView",
            "grid_template_rows": null,
            "right": null,
            "justify_content": null,
            "_view_module": "@jupyter-widgets/base",
            "overflow": null,
            "_model_module_version": "1.2.0",
            "_view_count": null,
            "flex_flow": null,
            "width": null,
            "min_width": null,
            "border": null,
            "align_items": null,
            "bottom": null,
            "_model_module": "@jupyter-widgets/base",
            "top": null,
            "grid_column": null,
            "overflow_y": null,
            "overflow_x": null,
            "grid_auto_flow": null,
            "grid_area": null,
            "grid_template_columns": null,
            "flex": null,
            "_model_name": "LayoutModel",
            "justify_items": null,
            "grid_row": null,
            "max_height": null,
            "align_content": null,
            "visibility": null,
            "align_self": null,
            "height": null,
            "min_height": null,
            "padding": null,
            "grid_auto_rows": null,
            "grid_gap": null,
            "max_width": null,
            "order": null,
            "_view_module_version": "1.2.0",
            "grid_template_areas": null,
            "object_position": null,
            "object_fit": null,
            "grid_auto_columns": null,
            "margin": null,
            "display": null,
            "left": null
          }
        },
        "fcafc40e716d4ebba0585fb00cf05339": {
          "model_module": "@jupyter-widgets/controls",
          "model_name": "HBoxModel",
          "model_module_version": "1.5.0",
          "state": {
            "_view_name": "HBoxView",
            "_dom_classes": [],
            "_model_name": "HBoxModel",
            "_view_module": "@jupyter-widgets/controls",
            "_model_module_version": "1.5.0",
            "_view_count": null,
            "_view_module_version": "1.5.0",
            "box_style": "",
            "layout": "IPY_MODEL_d20f973390d44ae3a381ed7eb5269516",
            "_model_module": "@jupyter-widgets/controls",
            "children": [
              "IPY_MODEL_71589fb02c2c4e7993cdb11439836f27",
              "IPY_MODEL_178af609a4cd476e93f98a6700d946dc",
              "IPY_MODEL_e88e67592fde46f18463c55971c74d95"
            ]
          }
        },
        "d20f973390d44ae3a381ed7eb5269516": {
          "model_module": "@jupyter-widgets/base",
          "model_name": "LayoutModel",
          "model_module_version": "1.2.0",
          "state": {
            "_view_name": "LayoutView",
            "grid_template_rows": null,
            "right": null,
            "justify_content": null,
            "_view_module": "@jupyter-widgets/base",
            "overflow": null,
            "_model_module_version": "1.2.0",
            "_view_count": null,
            "flex_flow": null,
            "width": null,
            "min_width": null,
            "border": null,
            "align_items": null,
            "bottom": null,
            "_model_module": "@jupyter-widgets/base",
            "top": null,
            "grid_column": null,
            "overflow_y": null,
            "overflow_x": null,
            "grid_auto_flow": null,
            "grid_area": null,
            "grid_template_columns": null,
            "flex": null,
            "_model_name": "LayoutModel",
            "justify_items": null,
            "grid_row": null,
            "max_height": null,
            "align_content": null,
            "visibility": null,
            "align_self": null,
            "height": null,
            "min_height": null,
            "padding": null,
            "grid_auto_rows": null,
            "grid_gap": null,
            "max_width": null,
            "order": null,
            "_view_module_version": "1.2.0",
            "grid_template_areas": null,
            "object_position": null,
            "object_fit": null,
            "grid_auto_columns": null,
            "margin": null,
            "display": null,
            "left": null
          }
        },
        "71589fb02c2c4e7993cdb11439836f27": {
          "model_module": "@jupyter-widgets/controls",
          "model_name": "HTMLModel",
          "model_module_version": "1.5.0",
          "state": {
            "_view_name": "HTMLView",
            "style": "IPY_MODEL_3036b872f502495a915d3948a4bbdd93",
            "_dom_classes": [],
            "description": "",
            "_model_name": "HTMLModel",
            "placeholder": "​",
            "_view_module": "@jupyter-widgets/controls",
            "_model_module_version": "1.5.0",
            "value": "100%",
            "_view_count": null,
            "_view_module_version": "1.5.0",
            "description_tooltip": null,
            "_model_module": "@jupyter-widgets/controls",
            "layout": "IPY_MODEL_3bb304c7ef03422999b3f46dd9b06612"
          }
        },
        "178af609a4cd476e93f98a6700d946dc": {
          "model_module": "@jupyter-widgets/controls",
          "model_name": "FloatProgressModel",
          "model_module_version": "1.5.0",
          "state": {
            "_view_name": "ProgressView",
            "style": "IPY_MODEL_8c286341e1c947a085f8e6ef830e6466",
            "_dom_classes": [],
            "description": "",
            "_model_name": "FloatProgressModel",
            "bar_style": "success",
            "max": 7,
            "_view_module": "@jupyter-widgets/controls",
            "_model_module_version": "1.5.0",
            "value": 7,
            "_view_count": null,
            "_view_module_version": "1.5.0",
            "orientation": "horizontal",
            "min": 0,
            "description_tooltip": null,
            "_model_module": "@jupyter-widgets/controls",
            "layout": "IPY_MODEL_8b6a335202a44eb7909300c91bc4a1d2"
          }
        },
        "e88e67592fde46f18463c55971c74d95": {
          "model_module": "@jupyter-widgets/controls",
          "model_name": "HTMLModel",
          "model_module_version": "1.5.0",
          "state": {
            "_view_name": "HTMLView",
            "style": "IPY_MODEL_ae262aa6dee0416fbaf6136b293f51b6",
            "_dom_classes": [],
            "description": "",
            "_model_name": "HTMLModel",
            "placeholder": "​",
            "_view_module": "@jupyter-widgets/controls",
            "_model_module_version": "1.5.0",
            "value": " 7/7 [06:25&lt;00:00, 46.45s/it]",
            "_view_count": null,
            "_view_module_version": "1.5.0",
            "description_tooltip": null,
            "_model_module": "@jupyter-widgets/controls",
            "layout": "IPY_MODEL_ab53db4af74341168c33523bc9a67f63"
          }
        },
        "3036b872f502495a915d3948a4bbdd93": {
          "model_module": "@jupyter-widgets/controls",
          "model_name": "DescriptionStyleModel",
          "model_module_version": "1.5.0",
          "state": {
            "_view_name": "StyleView",
            "_model_name": "DescriptionStyleModel",
            "description_width": "",
            "_view_module": "@jupyter-widgets/base",
            "_model_module_version": "1.5.0",
            "_view_count": null,
            "_view_module_version": "1.2.0",
            "_model_module": "@jupyter-widgets/controls"
          }
        },
        "3bb304c7ef03422999b3f46dd9b06612": {
          "model_module": "@jupyter-widgets/base",
          "model_name": "LayoutModel",
          "model_module_version": "1.2.0",
          "state": {
            "_view_name": "LayoutView",
            "grid_template_rows": null,
            "right": null,
            "justify_content": null,
            "_view_module": "@jupyter-widgets/base",
            "overflow": null,
            "_model_module_version": "1.2.0",
            "_view_count": null,
            "flex_flow": null,
            "width": null,
            "min_width": null,
            "border": null,
            "align_items": null,
            "bottom": null,
            "_model_module": "@jupyter-widgets/base",
            "top": null,
            "grid_column": null,
            "overflow_y": null,
            "overflow_x": null,
            "grid_auto_flow": null,
            "grid_area": null,
            "grid_template_columns": null,
            "flex": null,
            "_model_name": "LayoutModel",
            "justify_items": null,
            "grid_row": null,
            "max_height": null,
            "align_content": null,
            "visibility": null,
            "align_self": null,
            "height": null,
            "min_height": null,
            "padding": null,
            "grid_auto_rows": null,
            "grid_gap": null,
            "max_width": null,
            "order": null,
            "_view_module_version": "1.2.0",
            "grid_template_areas": null,
            "object_position": null,
            "object_fit": null,
            "grid_auto_columns": null,
            "margin": null,
            "display": null,
            "left": null
          }
        },
        "8c286341e1c947a085f8e6ef830e6466": {
          "model_module": "@jupyter-widgets/controls",
          "model_name": "ProgressStyleModel",
          "model_module_version": "1.5.0",
          "state": {
            "_view_name": "StyleView",
            "_model_name": "ProgressStyleModel",
            "description_width": "",
            "_view_module": "@jupyter-widgets/base",
            "_model_module_version": "1.5.0",
            "_view_count": null,
            "_view_module_version": "1.2.0",
            "bar_color": null,
            "_model_module": "@jupyter-widgets/controls"
          }
        },
        "8b6a335202a44eb7909300c91bc4a1d2": {
          "model_module": "@jupyter-widgets/base",
          "model_name": "LayoutModel",
          "model_module_version": "1.2.0",
          "state": {
            "_view_name": "LayoutView",
            "grid_template_rows": null,
            "right": null,
            "justify_content": null,
            "_view_module": "@jupyter-widgets/base",
            "overflow": null,
            "_model_module_version": "1.2.0",
            "_view_count": null,
            "flex_flow": null,
            "width": null,
            "min_width": null,
            "border": null,
            "align_items": null,
            "bottom": null,
            "_model_module": "@jupyter-widgets/base",
            "top": null,
            "grid_column": null,
            "overflow_y": null,
            "overflow_x": null,
            "grid_auto_flow": null,
            "grid_area": null,
            "grid_template_columns": null,
            "flex": null,
            "_model_name": "LayoutModel",
            "justify_items": null,
            "grid_row": null,
            "max_height": null,
            "align_content": null,
            "visibility": null,
            "align_self": null,
            "height": null,
            "min_height": null,
            "padding": null,
            "grid_auto_rows": null,
            "grid_gap": null,
            "max_width": null,
            "order": null,
            "_view_module_version": "1.2.0",
            "grid_template_areas": null,
            "object_position": null,
            "object_fit": null,
            "grid_auto_columns": null,
            "margin": null,
            "display": null,
            "left": null
          }
        },
        "ae262aa6dee0416fbaf6136b293f51b6": {
          "model_module": "@jupyter-widgets/controls",
          "model_name": "DescriptionStyleModel",
          "model_module_version": "1.5.0",
          "state": {
            "_view_name": "StyleView",
            "_model_name": "DescriptionStyleModel",
            "description_width": "",
            "_view_module": "@jupyter-widgets/base",
            "_model_module_version": "1.5.0",
            "_view_count": null,
            "_view_module_version": "1.2.0",
            "_model_module": "@jupyter-widgets/controls"
          }
        },
        "ab53db4af74341168c33523bc9a67f63": {
          "model_module": "@jupyter-widgets/base",
          "model_name": "LayoutModel",
          "model_module_version": "1.2.0",
          "state": {
            "_view_name": "LayoutView",
            "grid_template_rows": null,
            "right": null,
            "justify_content": null,
            "_view_module": "@jupyter-widgets/base",
            "overflow": null,
            "_model_module_version": "1.2.0",
            "_view_count": null,
            "flex_flow": null,
            "width": null,
            "min_width": null,
            "border": null,
            "align_items": null,
            "bottom": null,
            "_model_module": "@jupyter-widgets/base",
            "top": null,
            "grid_column": null,
            "overflow_y": null,
            "overflow_x": null,
            "grid_auto_flow": null,
            "grid_area": null,
            "grid_template_columns": null,
            "flex": null,
            "_model_name": "LayoutModel",
            "justify_items": null,
            "grid_row": null,
            "max_height": null,
            "align_content": null,
            "visibility": null,
            "align_self": null,
            "height": null,
            "min_height": null,
            "padding": null,
            "grid_auto_rows": null,
            "grid_gap": null,
            "max_width": null,
            "order": null,
            "_view_module_version": "1.2.0",
            "grid_template_areas": null,
            "object_position": null,
            "object_fit": null,
            "grid_auto_columns": null,
            "margin": null,
            "display": null,
            "left": null
          }
        },
        "6dec60cb913d464482b0bfac1f015216": {
          "model_module": "@jupyter-widgets/controls",
          "model_name": "HBoxModel",
          "model_module_version": "1.5.0",
          "state": {
            "_view_name": "HBoxView",
            "_dom_classes": [],
            "_model_name": "HBoxModel",
            "_view_module": "@jupyter-widgets/controls",
            "_model_module_version": "1.5.0",
            "_view_count": null,
            "_view_module_version": "1.5.0",
            "box_style": "",
            "layout": "IPY_MODEL_172739992a3945729fa8af8a73a1b840",
            "_model_module": "@jupyter-widgets/controls",
            "children": [
              "IPY_MODEL_0313dcf4657e4b669abaadb9fafc9954",
              "IPY_MODEL_1327341a5bb74a90b0d399fb74286607",
              "IPY_MODEL_2cb7f69aec5b4325ac3b376b567987f7"
            ]
          }
        },
        "172739992a3945729fa8af8a73a1b840": {
          "model_module": "@jupyter-widgets/base",
          "model_name": "LayoutModel",
          "model_module_version": "1.2.0",
          "state": {
            "_view_name": "LayoutView",
            "grid_template_rows": null,
            "right": null,
            "justify_content": null,
            "_view_module": "@jupyter-widgets/base",
            "overflow": null,
            "_model_module_version": "1.2.0",
            "_view_count": null,
            "flex_flow": null,
            "width": null,
            "min_width": null,
            "border": null,
            "align_items": null,
            "bottom": null,
            "_model_module": "@jupyter-widgets/base",
            "top": null,
            "grid_column": null,
            "overflow_y": null,
            "overflow_x": null,
            "grid_auto_flow": null,
            "grid_area": null,
            "grid_template_columns": null,
            "flex": null,
            "_model_name": "LayoutModel",
            "justify_items": null,
            "grid_row": null,
            "max_height": null,
            "align_content": null,
            "visibility": null,
            "align_self": null,
            "height": null,
            "min_height": null,
            "padding": null,
            "grid_auto_rows": null,
            "grid_gap": null,
            "max_width": null,
            "order": null,
            "_view_module_version": "1.2.0",
            "grid_template_areas": null,
            "object_position": null,
            "object_fit": null,
            "grid_auto_columns": null,
            "margin": null,
            "display": null,
            "left": null
          }
        },
        "0313dcf4657e4b669abaadb9fafc9954": {
          "model_module": "@jupyter-widgets/controls",
          "model_name": "HTMLModel",
          "model_module_version": "1.5.0",
          "state": {
            "_view_name": "HTMLView",
            "style": "IPY_MODEL_a329ab607b764132815bc183be36a712",
            "_dom_classes": [],
            "description": "",
            "_model_name": "HTMLModel",
            "placeholder": "​",
            "_view_module": "@jupyter-widgets/controls",
            "_model_module_version": "1.5.0",
            "value": "100%",
            "_view_count": null,
            "_view_module_version": "1.5.0",
            "description_tooltip": null,
            "_model_module": "@jupyter-widgets/controls",
            "layout": "IPY_MODEL_25d9e7f0899943bfb81c03a388ac9082"
          }
        },
        "1327341a5bb74a90b0d399fb74286607": {
          "model_module": "@jupyter-widgets/controls",
          "model_name": "FloatProgressModel",
          "model_module_version": "1.5.0",
          "state": {
            "_view_name": "ProgressView",
            "style": "IPY_MODEL_ca133e536fa6434894587d2534cd0093",
            "_dom_classes": [],
            "description": "",
            "_model_name": "FloatProgressModel",
            "bar_style": "success",
            "max": 99,
            "_view_module": "@jupyter-widgets/controls",
            "_model_module_version": "1.5.0",
            "value": 99,
            "_view_count": null,
            "_view_module_version": "1.5.0",
            "orientation": "horizontal",
            "min": 0,
            "description_tooltip": null,
            "_model_module": "@jupyter-widgets/controls",
            "layout": "IPY_MODEL_6f6351fbdb674a2483025c9883077ccd"
          }
        },
        "2cb7f69aec5b4325ac3b376b567987f7": {
          "model_module": "@jupyter-widgets/controls",
          "model_name": "HTMLModel",
          "model_module_version": "1.5.0",
          "state": {
            "_view_name": "HTMLView",
            "style": "IPY_MODEL_2b3283b22a16461b83370a5ab400a87b",
            "_dom_classes": [],
            "description": "",
            "_model_name": "HTMLModel",
            "placeholder": "​",
            "_view_module": "@jupyter-widgets/controls",
            "_model_module_version": "1.5.0",
            "value": " 99/99 [2:24:06&lt;00:00, 101.81s/it]",
            "_view_count": null,
            "_view_module_version": "1.5.0",
            "description_tooltip": null,
            "_model_module": "@jupyter-widgets/controls",
            "layout": "IPY_MODEL_d8b78ff38ac244f2b2a67707cd372bc5"
          }
        },
        "a329ab607b764132815bc183be36a712": {
          "model_module": "@jupyter-widgets/controls",
          "model_name": "DescriptionStyleModel",
          "model_module_version": "1.5.0",
          "state": {
            "_view_name": "StyleView",
            "_model_name": "DescriptionStyleModel",
            "description_width": "",
            "_view_module": "@jupyter-widgets/base",
            "_model_module_version": "1.5.0",
            "_view_count": null,
            "_view_module_version": "1.2.0",
            "_model_module": "@jupyter-widgets/controls"
          }
        },
        "25d9e7f0899943bfb81c03a388ac9082": {
          "model_module": "@jupyter-widgets/base",
          "model_name": "LayoutModel",
          "model_module_version": "1.2.0",
          "state": {
            "_view_name": "LayoutView",
            "grid_template_rows": null,
            "right": null,
            "justify_content": null,
            "_view_module": "@jupyter-widgets/base",
            "overflow": null,
            "_model_module_version": "1.2.0",
            "_view_count": null,
            "flex_flow": null,
            "width": null,
            "min_width": null,
            "border": null,
            "align_items": null,
            "bottom": null,
            "_model_module": "@jupyter-widgets/base",
            "top": null,
            "grid_column": null,
            "overflow_y": null,
            "overflow_x": null,
            "grid_auto_flow": null,
            "grid_area": null,
            "grid_template_columns": null,
            "flex": null,
            "_model_name": "LayoutModel",
            "justify_items": null,
            "grid_row": null,
            "max_height": null,
            "align_content": null,
            "visibility": null,
            "align_self": null,
            "height": null,
            "min_height": null,
            "padding": null,
            "grid_auto_rows": null,
            "grid_gap": null,
            "max_width": null,
            "order": null,
            "_view_module_version": "1.2.0",
            "grid_template_areas": null,
            "object_position": null,
            "object_fit": null,
            "grid_auto_columns": null,
            "margin": null,
            "display": null,
            "left": null
          }
        },
        "ca133e536fa6434894587d2534cd0093": {
          "model_module": "@jupyter-widgets/controls",
          "model_name": "ProgressStyleModel",
          "model_module_version": "1.5.0",
          "state": {
            "_view_name": "StyleView",
            "_model_name": "ProgressStyleModel",
            "description_width": "",
            "_view_module": "@jupyter-widgets/base",
            "_model_module_version": "1.5.0",
            "_view_count": null,
            "_view_module_version": "1.2.0",
            "bar_color": null,
            "_model_module": "@jupyter-widgets/controls"
          }
        },
        "6f6351fbdb674a2483025c9883077ccd": {
          "model_module": "@jupyter-widgets/base",
          "model_name": "LayoutModel",
          "model_module_version": "1.2.0",
          "state": {
            "_view_name": "LayoutView",
            "grid_template_rows": null,
            "right": null,
            "justify_content": null,
            "_view_module": "@jupyter-widgets/base",
            "overflow": null,
            "_model_module_version": "1.2.0",
            "_view_count": null,
            "flex_flow": null,
            "width": null,
            "min_width": null,
            "border": null,
            "align_items": null,
            "bottom": null,
            "_model_module": "@jupyter-widgets/base",
            "top": null,
            "grid_column": null,
            "overflow_y": null,
            "overflow_x": null,
            "grid_auto_flow": null,
            "grid_area": null,
            "grid_template_columns": null,
            "flex": null,
            "_model_name": "LayoutModel",
            "justify_items": null,
            "grid_row": null,
            "max_height": null,
            "align_content": null,
            "visibility": null,
            "align_self": null,
            "height": null,
            "min_height": null,
            "padding": null,
            "grid_auto_rows": null,
            "grid_gap": null,
            "max_width": null,
            "order": null,
            "_view_module_version": "1.2.0",
            "grid_template_areas": null,
            "object_position": null,
            "object_fit": null,
            "grid_auto_columns": null,
            "margin": null,
            "display": null,
            "left": null
          }
        },
        "2b3283b22a16461b83370a5ab400a87b": {
          "model_module": "@jupyter-widgets/controls",
          "model_name": "DescriptionStyleModel",
          "model_module_version": "1.5.0",
          "state": {
            "_view_name": "StyleView",
            "_model_name": "DescriptionStyleModel",
            "description_width": "",
            "_view_module": "@jupyter-widgets/base",
            "_model_module_version": "1.5.0",
            "_view_count": null,
            "_view_module_version": "1.2.0",
            "_model_module": "@jupyter-widgets/controls"
          }
        },
        "d8b78ff38ac244f2b2a67707cd372bc5": {
          "model_module": "@jupyter-widgets/base",
          "model_name": "LayoutModel",
          "model_module_version": "1.2.0",
          "state": {
            "_view_name": "LayoutView",
            "grid_template_rows": null,
            "right": null,
            "justify_content": null,
            "_view_module": "@jupyter-widgets/base",
            "overflow": null,
            "_model_module_version": "1.2.0",
            "_view_count": null,
            "flex_flow": null,
            "width": null,
            "min_width": null,
            "border": null,
            "align_items": null,
            "bottom": null,
            "_model_module": "@jupyter-widgets/base",
            "top": null,
            "grid_column": null,
            "overflow_y": null,
            "overflow_x": null,
            "grid_auto_flow": null,
            "grid_area": null,
            "grid_template_columns": null,
            "flex": null,
            "_model_name": "LayoutModel",
            "justify_items": null,
            "grid_row": null,
            "max_height": null,
            "align_content": null,
            "visibility": null,
            "align_self": null,
            "height": null,
            "min_height": null,
            "padding": null,
            "grid_auto_rows": null,
            "grid_gap": null,
            "max_width": null,
            "order": null,
            "_view_module_version": "1.2.0",
            "grid_template_areas": null,
            "object_position": null,
            "object_fit": null,
            "grid_auto_columns": null,
            "margin": null,
            "display": null,
            "left": null
          }
        }
      }
    }
  },
  "nbformat": 4,
  "nbformat_minor": 0
}